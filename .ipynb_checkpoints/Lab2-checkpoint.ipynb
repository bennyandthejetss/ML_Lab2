{
 "cells": [
  {
   "cell_type": "markdown",
   "id": "ba4f0aff-0575-4fe8-805f-99f435af7f25",
   "metadata": {},
   "source": [
    "\n",
    "# Lab Two: Exploring Image Data\n",
    "\n",
    "### Dataset: \n",
    "Group: Benjamin Kuo & Nick Benso"
   ]
  },
  {
   "cell_type": "markdown",
   "id": "5b10943f-a122-4fd6-ae8c-243183392291",
   "metadata": {},
   "source": [
    "Potential datasets:\n",
    "- https://www.kaggle.com/datasets/asdasdasasdas/garbage-classification\n",
    "- https://www.kaggle.com/datasets/rhammell/ships-in-satellite-imagery"
   ]
  },
  {
   "cell_type": "code",
   "execution_count": null,
   "id": "f46eabe5-8248-4151-8b51-5ea242b4e968",
   "metadata": {},
   "outputs": [],
   "source": []
  }
 ],
 "metadata": {
  "kernelspec": {
   "display_name": "Python 3 (ipykernel)",
   "language": "python",
   "name": "python3"
  },
  "language_info": {
   "codemirror_mode": {
    "name": "ipython",
    "version": 3
   },
   "file_extension": ".py",
   "mimetype": "text/x-python",
   "name": "python",
   "nbconvert_exporter": "python",
   "pygments_lexer": "ipython3",
   "version": "3.9.13"
  }
 },
 "nbformat": 4,
 "nbformat_minor": 5
}
