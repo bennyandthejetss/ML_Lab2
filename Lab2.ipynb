{
 "cells": [
  {
   "cell_type": "markdown",
   "id": "ba4f0aff-0575-4fe8-805f-99f435af7f25",
   "metadata": {},
   "source": [
    "\n",
    "# Lab Two: Exploring Image Data\n",
    "\n",
    "### Dataset: \n",
    "Group: Benjamin Kuo & Nick Benso"
   ]
  },
  {
   "cell_type": "markdown",
   "id": "5b10943f-a122-4fd6-ae8c-243183392291",
   "metadata": {},
   "source": [
    "Potential datasets:\n",
    "- https://www.kaggle.com/datasets/asdasdasasdas/garbage-classification\n",
    "- https://www.kaggle.com/datasets/rhammell/ships-in-satellite-imagery"
   ]
  },
  {
   "cell_type": "markdown",
   "id": "6384fa58-c29c-4e06-89aa-53f71a0cb048",
   "metadata": {},
   "source": [
    "## Business Understanding (2 points total).  \n",
    "- [2 points] Give an overview of the dataset. Describe the purpose of the data set you selected (i.e., why was this data collected in the first place?). What is the prediction task for your dataset and which third parties would be interested in the results? Why is this data important? Once you begin modeling, how well would your prediction algorithm need to perform to be considered useful to the identified third parties? Be specific and use your own words to describe the aspects of the data. \n",
    "\n",
    "\n"
   ]
  },
  {
   "cell_type": "markdown",
   "id": "9cfb0ed0-374c-467e-910f-09efaa61ca32",
   "metadata": {},
   "source": [
    "## Data Preparation (1 points total)\n",
    "- [.5 points] Read in your images as numpy arrays. Resize and recolor images as necessary. \n",
    "- [.4 points] Linearize the images to create a table of 1-D image features (each row should be one image).   \n",
    "- [.1 points] Visualize several images."
   ]
  },
  {
   "cell_type": "markdown",
   "id": "c1517de2-a3de-4dcd-a9b3-1540c7e1c110",
   "metadata": {},
   "source": [
    "## Data Reduction (6 points total)\n",
    "- [.5 points] Perform linear dimensionality reduction of the images using **principal components analysis**. Visualize the explained variance of each component. Analyze how many dimensions are required to adequately represent your image data. Explain your analysis and conclusion.\n",
    "- [.5 points] Perform linear dimensionality reduction of your image data using **randomized principle components analysis**. Visualize the explained variance of each component. Analyze how many dimensions are required to adequately represent your image data. Explain your analysis and conclusion.\n",
    "- [2 points]  Compare the representation using PCA and Randomized PCA. The method you choose to compare dimensionality methods should quantitatively explain which method is better at representing the images with fewer components.  Do you prefer one method over another? Why?\n",
    "- [1 points] Perform feature extraction upon the images using **DAISY**. Try different parameters for your image data.\n",
    "- [2 points] Does this feature extraction method show promise for your prediction task? Why?\n",
    "Use visualizations to analyze this questions. For example, use a heat map of the pairwise differences (ordered by class) among all extracted features. Another option, build a nearest neighbor classifier to see actual classification performance.  "
   ]
  },
  {
   "cell_type": "markdown",
   "id": "f498f674-775d-453e-a826-9c54df5a643a",
   "metadata": {
    "tags": []
   },
   "source": [
    "## Exceptional Work (1 points total)\n",
    "- (0.4) The overall quality of the report as a coherent, useful, and polished product will be reflected here. Does it make sense overall? Do your visualizations answer the questions you put forth in your business analysis? Do you properly and consistently cite sources and annotate changes made to base code? Do you provide specific reasons for your assumptions? Do subsequent questions follow naturally from initial exploration?"
   ]
  },
  {
   "cell_type": "code",
   "execution_count": null,
   "id": "54d35496-0eaf-49a8-9ec1-0fa11f9f4d09",
   "metadata": {},
   "outputs": [],
   "source": []
  }
 ],
 "metadata": {
  "kernelspec": {
   "display_name": "Python 3 (ipykernel)",
   "language": "python",
   "name": "python3"
  },
  "language_info": {
   "codemirror_mode": {
    "name": "ipython",
    "version": 3
   },
   "file_extension": ".py",
   "mimetype": "text/x-python",
   "name": "python",
   "nbconvert_exporter": "python",
   "pygments_lexer": "ipython3",
   "version": "3.9.13"
  }
 },
 "nbformat": 4,
 "nbformat_minor": 5
}
